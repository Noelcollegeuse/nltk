{
 "cells": [
  {
   "cell_type": "code",
   "execution_count": 1,
   "id": "934b0a4e",
   "metadata": {},
   "outputs": [
    {
     "name": "stderr",
     "output_type": "stream",
     "text": [
      "[nltk_data] Downloading package punkt_tab to\n",
      "[nltk_data]     C:\\Users\\noele\\AppData\\Roaming\\nltk_data...\n",
      "[nltk_data]   Package punkt_tab is already up-to-date!\n"
     ]
    },
    {
     "data": {
      "text/plain": [
       "True"
      ]
     },
     "execution_count": 1,
     "metadata": {},
     "output_type": "execute_result"
    }
   ],
   "source": [
    "import nltk\n",
    "nltk.download('punkt_tab')"
   ]
  },
  {
   "cell_type": "code",
   "execution_count": null,
   "id": "c79011ba",
   "metadata": {},
   "outputs": [
    {
     "data": {
      "text/markdown": [
       "\n",
       "# Moby Dick Text Analysis\n",
       "\n",
       "- Average Word Length:4.35\n",
       "- Average Sentence Length (in words): 23.21\n",
       "- Lexical Diversity:0.0852\n"
      ],
      "text/plain": [
       "<IPython.core.display.Markdown object>"
      ]
     },
     "metadata": {},
     "output_type": "display_data"
    }
   ],
   "source": [
    "import nltk\n",
    "from nltk.tokenize import word_tokenize, sent_tokenize\n",
    "from urllib.request import urlopen\n",
    "from IPython.display import display, Markdown\n",
    "nltk.download('punkt', quiet=True)\n",
    "nltk.download('averaged_perceptron_tagger', quiet=True)\n",
    "url = \"https://www.gutenberg.org/files/2701/2701-0.txt\"\n",
    "response = urlopen(url)\n",
    "raw_text = response.read().decode('utf-8')\n",
    "txt_start = raw_text.find(\"CHAPTER 1.\")\n",
    "txt_end = raw_text.rfind(\"THE END\")\n",
    "processed_text = raw_text[txt_start:txt_end]\n",
    "moby_sents = sent_tokenize(processed_text)\n",
    "moby_text = [word for word in word_tokenize(processed_text) if word.isalpha()]\n",
    "total_word_length = sum(len(word) for word in moby_text)\n",
    "average_word_length = total_word_length / len(moby_text)\n",
    "total_sentences = len(moby_sents)\n",
    "total_words = len(moby_text)\n",
    "average_sentence_length = total_words / total_sentences\n",
    "unique_words = set(moby_text)\n",
    "lexical_diversity = len(unique_words) / total_words\n",
    "results = f\"\"\"\n",
    "# Moby Dick Text Analysis\n",
    "\n",
    "- Average Word Length:{average_word_length:.2f}\n",
    "- Average Sentence Length (in words): {average_sentence_length:.2f}\n",
    "- Lexical Diversity:{lexical_diversity:.4f}\n",
    "\"\"\"\n",
    "display(Markdown(results))"
   ]
  }
 ],
 "metadata": {
  "kernelspec": {
   "display_name": "Python 3",
   "language": "python",
   "name": "python3"
  },
  "language_info": {
   "codemirror_mode": {
    "name": "ipython",
    "version": 3
   },
   "file_extension": ".py",
   "mimetype": "text/x-python",
   "name": "python",
   "nbconvert_exporter": "python",
   "pygments_lexer": "ipython3",
   "version": "3.10.9"
  }
 },
 "nbformat": 4,
 "nbformat_minor": 5
}
