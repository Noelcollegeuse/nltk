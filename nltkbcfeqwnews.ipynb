{
 "cells": [
  {
   "cell_type": "code",
   "execution_count": 1,
   "id": "2a6da7e8",
   "metadata": {},
   "outputs": [],
   "source": [
    "import nltk\n",
    "from collections import Counter\n",
    "from nltk.corpus import brown\n",
    "from IPython.display import display, Markdown"
   ]
  },
  {
   "cell_type": "code",
   "execution_count": 2,
   "id": "f48ac3c1",
   "metadata": {},
   "outputs": [
    {
     "data": {
      "text/plain": [
       "True"
      ]
     },
     "execution_count": 2,
     "metadata": {},
     "output_type": "execute_result"
    }
   ],
   "source": [
    "nltk.download('brown', quiet=True)\n",
    "nltk.download('punkt', quiet=True)"
   ]
  },
  {
   "cell_type": "code",
   "execution_count": 3,
   "id": "297b8f72",
   "metadata": {},
   "outputs": [],
   "source": [
    "news_words = [word.lower() for word in brown.words(categories='news') if word.isalpha()]"
   ]
  },
  {
   "cell_type": "code",
   "execution_count": 4,
   "id": "f6d0a349",
   "metadata": {},
   "outputs": [],
   "source": [
    "word_freq = Counter(news_words)\n",
    "most_common_word, most_common_count = word_freq.most_common(1)[0]"
   ]
  },
  {
   "cell_type": "code",
   "execution_count": 5,
   "id": "a0c44b14",
   "metadata": {},
   "outputs": [
    {
     "data": {
      "text/markdown": [
       "\n",
       "# **Brown Corpus - News Category Analysis**\n",
       "\n",
       "- **Most Frequent Word:** the\n",
       "- **Frequency:** 6386\n"
      ],
      "text/plain": [
       "<IPython.core.display.Markdown object>"
      ]
     },
     "metadata": {},
     "output_type": "display_data"
    }
   ],
   "source": [
    "results = f\"\"\"\n",
    "# **Brown Corpus - News Category Analysis**\n",
    "\n",
    "- **Most Frequent Word:** {most_common_word}\n",
    "- **Frequency:** {most_common_count}\n",
    "\"\"\"\n",
    "display(Markdown(results))"
   ]
  }
 ],
 "metadata": {
  "kernelspec": {
   "display_name": "Python 3",
   "language": "python",
   "name": "python3"
  },
  "language_info": {
   "codemirror_mode": {
    "name": "ipython",
    "version": 3
   },
   "file_extension": ".py",
   "mimetype": "text/x-python",
   "name": "python",
   "nbconvert_exporter": "python",
   "pygments_lexer": "ipython3",
   "version": "3.10.9"
  }
 },
 "nbformat": 4,
 "nbformat_minor": 5
}
