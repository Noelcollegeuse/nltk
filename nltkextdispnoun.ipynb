{
 "cells": [
  {
   "cell_type": "code",
   "execution_count": 1,
   "id": "143bec74",
   "metadata": {},
   "outputs": [
    {
     "name": "stderr",
     "output_type": "stream",
     "text": [
      "[nltk_data] Downloading package punkt to\n",
      "[nltk_data]     C:\\Users\\noele\\AppData\\Roaming\\nltk_data...\n",
      "[nltk_data]   Package punkt is already up-to-date!\n",
      "[nltk_data] Downloading package averaged_perceptron_tagger to\n",
      "[nltk_data]     C:\\Users\\noele\\AppData\\Roaming\\nltk_data...\n",
      "[nltk_data]   Package averaged_perceptron_tagger is already up-to-\n",
      "[nltk_data]       date!\n"
     ]
    }
   ],
   "source": [
    "import nltk\n",
    "from nltk import word_tokenize, pos_tag\n",
    "from nltk.tree import Tree\n",
    "\n",
    "# Download necessary resources\n",
    "nltk.download('punkt')\n",
    "nltk.download('averaged_perceptron_tagger')\n",
    "\n",
    "def extract_noun_phrases(text):\n",
    "    tokens = word_tokenize(text)  # Tokenize the text\n",
    "    pos_tags = pos_tag(tokens)  # Part-of-speech tagging\n",
    "\n",
    "    # Define a simple grammar for noun phrases (NP)\n",
    "    grammar = \"NP: {<DT>?<JJ>*<NN.*>+}\"  # Determiner (optional) + Adjective (optional) + Noun(s)\n",
    "\n",
    "    # Create a parser\n",
    "    chunk_parser = nltk.RegexpParser(grammar)\n",
    "    chunk_tree = chunk_parser.parse(pos_tags)\n",
    "\n",
    "    noun_phrases = []\n",
    "    for subtree in chunk_tree:\n",
    "        if isinstance(subtree, Tree) and subtree.label() == \"NP\":\n",
    "            noun_phrase = \" \".join(word for word, pos in subtree.leaves())\n",
    "            noun_phrases.append(noun_phrase)\n",
    "\n",
    "    return noun_phrases\n",
    "\n",
    "# Example usage\n",
    "text = \"The quick brown fox jumps over the lazy dog. Apple Inc. is a big company.\"\n",
    "\n",
    "noun_phrases = extract_noun_phrases(text)\n"
   ]
  },
  {
   "cell_type": "code",
   "execution_count": 2,
   "id": "ae609308",
   "metadata": {},
   "outputs": [
    {
     "name": "stdout",
     "output_type": "stream",
     "text": [
      "Noun Phrases: ['The quick brown fox', 'the lazy dog', 'Apple Inc.', 'a big company']\n"
     ]
    }
   ],
   "source": [
    "print(\"Noun Phrases:\", noun_phrases)"
   ]
  }
 ],
 "metadata": {
  "kernelspec": {
   "display_name": "Python 3",
   "language": "python",
   "name": "python3"
  },
  "language_info": {
   "codemirror_mode": {
    "name": "ipython",
    "version": 3
   },
   "file_extension": ".py",
   "mimetype": "text/x-python",
   "name": "python",
   "nbconvert_exporter": "python",
   "pygments_lexer": "ipython3",
   "version": "3.10.9"
  }
 },
 "nbformat": 4,
 "nbformat_minor": 5
}
