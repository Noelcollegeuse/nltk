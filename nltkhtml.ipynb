{
 "cells": [
  {
   "cell_type": "code",
   "execution_count": 3,
   "id": "ad47e364",
   "metadata": {},
   "outputs": [
    {
     "name": "stderr",
     "output_type": "stream",
     "text": [
      "[nltk_data] Downloading package punkt to\n",
      "[nltk_data]     C:\\Users\\noele\\AppData\\Roaming\\nltk_data...\n",
      "[nltk_data]   Package punkt is already up-to-date!\n",
      "[nltk_data] Downloading package punkt_tab to\n",
      "[nltk_data]     C:\\Users\\noele\\AppData\\Roaming\\nltk_data...\n",
      "[nltk_data]   Package punkt_tab is already up-to-date!\n"
     ]
    },
    {
     "name": "stdout",
     "output_type": "stream",
     "text": [
      "Cleaned Text (First 500 characters):\n",
      "*** START OF THE PROJECT GUTENBERG EBOOK 1342 *** [Illustration: GEORGE ALLEN PUBLISHER 156 CHARING CROSS ROAD LONDON RUSKIN HOUSE ] [Illustration: _Reading Jane’s Letters._ _Chap 34._ ] PRIDE. and PREJUDICE by Jane Austen, with a Preface by George Saintsbury and Illustrations by Hugh Thomson [Illustration: 1894] Ruskin 156. Charing House. Cross Road. London George Allen. CHISWICK PRESS:--CHARLES WHITTINGHAM AND CO. TOOKS COURT, CHANCERY LANE, LONDON. [Illustration: _To J. Comyns Carr in acknowl\n",
      "\n",
      "Total Tokens: 151046\n"
     ]
    }
   ],
   "source": [
    "import requests\n",
    "from bs4 import BeautifulSoup\n",
    "import nltk\n",
    "from nltk.tokenize import word_tokenize\n",
    "\n",
    "# Download necessary NLTK data\n",
    "nltk.download('punkt')\n",
    "# Download the 'punkt_tab' resource\n",
    "nltk.download('punkt_tab') # This line is added to fix the error\n",
    "\n",
    "\n",
    "# Step 1: Fetch the web page\n",
    "url = 'https://www.gutenberg.org/files/1342/1342-0.txt'\n",
    "response = requests.get(url)\n",
    "html_content = response.text\n",
    "\n",
    "# Step 2: Parse HTML and extract clean text\n",
    "soup = BeautifulSoup(html_content, 'html.parser')\n",
    "text = soup.get_text()\n",
    "\n",
    "# Optional: Remove extra whitespace\n",
    "cleaned_text = ' '.join(text.split())\n",
    "\n",
    "# Step 3: Use NLTK for further processing (tokenization in this example)\n",
    "tokens = word_tokenize(cleaned_text)\n",
    "\n",
    "# Print the cleaned text and token count\n",
    "print(\"Cleaned Text (First 500 characters):\")\n",
    "print(cleaned_text[:500])\n",
    "print(\"\\nTotal Tokens:\", len(tokens))"
   ]
  }
 ],
 "metadata": {
  "kernelspec": {
   "display_name": "Python 3",
   "language": "python",
   "name": "python3"
  },
  "language_info": {
   "codemirror_mode": {
    "name": "ipython",
    "version": 3
   },
   "file_extension": ".py",
   "mimetype": "text/x-python",
   "name": "python",
   "nbconvert_exporter": "python",
   "pygments_lexer": "ipython3",
   "version": "3.10.9"
  }
 },
 "nbformat": 4,
 "nbformat_minor": 5
}
