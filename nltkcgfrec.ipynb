{
 "cells": [
  {
   "cell_type": "code",
   "execution_count": 1,
   "id": "b259c3cf",
   "metadata": {},
   "outputs": [
    {
     "name": "stdout",
     "output_type": "stream",
     "text": [
      "              S                  \n",
      "    __________|___                \n",
      "   |              VP             \n",
      "   |      ________|___            \n",
      "   NP    |            NP         \n",
      "   |     |         ___|_____      \n",
      "Pronoun  V       Det        N    \n",
      "   |     |        |         |     \n",
      "  She   eats      a      sandwich\n",
      "\n"
     ]
    }
   ],
   "source": [
    "import nltk\n",
    "\n",
    "# Define the Context-Free Grammar (CFG)\n",
    "grammar = nltk.CFG.fromstring(\"\"\"\n",
    "    S -> NP VP\n",
    "    NP -> Det N | Pronoun\n",
    "    VP -> V NP\n",
    "    Det -> 'a'\n",
    "    N -> 'sandwich'\n",
    "    V -> 'eats'\n",
    "    Pronoun -> 'She'\n",
    "\"\"\")\n",
    "\n",
    "# Create the Recursive Descent Parser\n",
    "rd_parser = nltk.RecursiveDescentParser(grammar)\n",
    "\n",
    "# Sentence to parse\n",
    "sentence = \"She eats a sandwich\".split()\n",
    "\n",
    "# Parse the sentence and display the parse trees\n",
    "for tree in rd_parser.parse(sentence):\n",
    "    tree.pretty_print()\n",
    "\n",
    "# Alternatively, to get a visual representation (requires GUI backend)\n",
    "# for tree in rd_parser.parse(sentence):\n",
    "#     tree.draw()"
   ]
  }
 ],
 "metadata": {
  "kernelspec": {
   "display_name": "Python 3",
   "language": "python",
   "name": "python3"
  },
  "language_info": {
   "codemirror_mode": {
    "name": "ipython",
    "version": 3
   },
   "file_extension": ".py",
   "mimetype": "text/x-python",
   "name": "python",
   "nbconvert_exporter": "python",
   "pygments_lexer": "ipython3",
   "version": "3.10.9"
  }
 },
 "nbformat": 4,
 "nbformat_minor": 5
}
