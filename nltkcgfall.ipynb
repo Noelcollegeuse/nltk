{
 "cells": [
  {
   "cell_type": "code",
   "execution_count": 1,
   "id": "d3240faf",
   "metadata": {},
   "outputs": [
    {
     "name": "stdout",
     "output_type": "stream",
     "text": [
      "Parse trees for the sentence: 'I saw the man with the telescope'\n",
      "\n",
      "Parse Tree 1:\n",
      "     S                                    \n",
      "  ___|___________                          \n",
      " |               VP                       \n",
      " |        _______|________                 \n",
      " |       VP               PP              \n",
      " |    ___|___         ____|___             \n",
      " |   |       NP      |        NP          \n",
      " |   |    ___|___    |     ___|______      \n",
      " NP  V  Det      N   P   Det         N    \n",
      " |   |   |       |   |    |          |     \n",
      " I  saw the     man with the     telescope\n",
      "\n",
      "\n",
      "\n",
      "Parse Tree 2:\n",
      "     S                                \n",
      "  ___|_______                          \n",
      " |           VP                       \n",
      " |    _______|___                      \n",
      " |   |           NP                   \n",
      " |   |    _______|____                 \n",
      " |   |   |   |        PP              \n",
      " |   |   |   |    ____|___             \n",
      " |   |   |   |   |        NP          \n",
      " |   |   |   |   |     ___|______      \n",
      " NP  V  Det  N   P   Det         N    \n",
      " |   |   |   |   |    |          |     \n",
      " I  saw the man with the     telescope\n",
      "\n",
      "\n",
      "\n"
     ]
    },
    {
     "name": "stderr",
     "output_type": "stream",
     "text": [
      "[nltk_data] Downloading package punkt_tab to\n",
      "[nltk_data]     C:\\Users\\noele\\AppData\\Roaming\\nltk_data...\n",
      "[nltk_data]   Package punkt_tab is already up-to-date!\n"
     ]
    }
   ],
   "source": [
    "import nltk\n",
    "\n",
    "# **IMPORTANT: Run this line once to download the necessary data:**\n",
    "nltk.download('punkt_tab')\n",
    "\n",
    "def get_parse_trees(sentence, grammar_string):\n",
    "    \"\"\"\n",
    "    Generates all possible parse trees for a given sentence using a CFG grammar.\n",
    "\n",
    "    Args:\n",
    "        sentence (str): The input sentence to parse.\n",
    "        grammar_string (str): A string representation of the Context-Free Grammar (CFG).\n",
    "\n",
    "    Returns:\n",
    "        list: A list of nltk.Tree objects representing all possible parse trees.\n",
    "              Returns an empty list if no parse trees are found.\n",
    "    \"\"\"\n",
    "    grammar = nltk.CFG.fromstring(grammar_string)\n",
    "    parser = nltk.ChartParser(grammar)\n",
    "    tokens = nltk.word_tokenize(sentence)\n",
    "    trees = list(parser.parse(tokens))\n",
    "\n",
    "    return trees\n",
    "\n",
    "# Define a CFG grammar suitable for the example sentence\n",
    "grammar = \"\"\"\n",
    "    S -> NP VP\n",
    "    PP -> P NP\n",
    "    NP -> Det N | Det N PP | 'I' | ProperNoun\n",
    "    VP -> V NP | VP PP | V S | V\n",
    "    Det -> 'the'\n",
    "    N -> 'man' | 'telescope'\n",
    "    V -> 'saw' | 'eat'\n",
    "    P -> 'with'\n",
    "    ProperNoun -> 'John' | 'Mary'\n",
    "\"\"\"\n",
    "\n",
    "sentence = \"I saw the man with the telescope\"\n",
    "\n",
    "parse_trees = get_parse_trees(sentence, grammar)\n",
    "\n",
    "if parse_trees:\n",
    "    print(f\"Parse trees for the sentence: '{sentence}'\\n\")\n",
    "    for i, tree in enumerate(parse_trees):\n",
    "        print(f\"Parse Tree {i+1}:\")\n",
    "        tree.pretty_print()\n",
    "        print(\"\\n\")\n",
    "else:\n",
    "    print(f\"No parse trees found for the sentence: '{sentence}' using the given grammar.\")"
   ]
  }
 ],
 "metadata": {
  "kernelspec": {
   "display_name": "Python 3",
   "language": "python",
   "name": "python3"
  },
  "language_info": {
   "codemirror_mode": {
    "name": "ipython",
    "version": 3
   },
   "file_extension": ".py",
   "mimetype": "text/x-python",
   "name": "python",
   "nbconvert_exporter": "python",
   "pygments_lexer": "ipython3",
   "version": "3.10.9"
  }
 },
 "nbformat": 4,
 "nbformat_minor": 5
}
