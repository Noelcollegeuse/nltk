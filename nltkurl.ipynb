{
 "cells": [
  {
   "cell_type": "code",
   "execution_count": 1,
   "id": "a7c3e345",
   "metadata": {},
   "outputs": [
    {
     "name": "stdout",
     "output_type": "stream",
     "text": [
      "Word count: 151046\n"
     ]
    }
   ],
   "source": [
    "import nltk\n",
    "import requests\n",
    "from nltk.tokenize import word_tokenize\n",
    "\n",
    "def count_words_from_url(url):\n",
    "    # Fetch raw text from the URL\n",
    "    response = requests.get(url)\n",
    "    text = response.text\n",
    "\n",
    "    # Tokenize the text\n",
    "    tokens = word_tokenize(text)\n",
    "\n",
    "    # Return the number of words\n",
    "    return len(tokens)\n",
    "\n",
    "# Example usage\n",
    "url = 'https://www.gutenberg.org/files/1342/1342-0.txt'  # \"Pride and Prejudice\"\n",
    "word_count = count_words_from_url(url)\n",
    "print(f\"Word count: {word_count}\")\n"
   ]
  }
 ],
 "metadata": {
  "kernelspec": {
   "display_name": "Python 3",
   "language": "python",
   "name": "python3"
  },
  "language_info": {
   "codemirror_mode": {
    "name": "ipython",
    "version": 3
   },
   "file_extension": ".py",
   "mimetype": "text/x-python",
   "name": "python",
   "nbconvert_exporter": "python",
   "pygments_lexer": "ipython3",
   "version": "3.10.9"
  }
 },
 "nbformat": 4,
 "nbformat_minor": 5
}
