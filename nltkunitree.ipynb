{
 "cells": [
  {
   "cell_type": "code",
   "execution_count": 1,
   "id": "775a2b38",
   "metadata": {},
   "outputs": [
    {
     "name": "stderr",
     "output_type": "stream",
     "text": [
      "[nltk_data] Downloading package universal_tagset to\n",
      "[nltk_data]     C:\\Users\\noele\\AppData\\Roaming\\nltk_data...\n",
      "[nltk_data]   Unzipping taggers\\universal_tagset.zip.\n"
     ]
    }
   ],
   "source": [
    "import nltk\n",
    "from nltk.tokenize import word_tokenize\n",
    "from nltk.tag import pos_tag\n",
    "from nltk.tag.mapping import map_tag\n",
    "nltk.download('universal_tagset')\n",
    "# Sample sentence\n",
    "sentence = \"They refuse to permit us to obtain the refuse permit.\"\n",
    "\n",
    "# Tokenize the sentence\n",
    "tokens = word_tokenize(sentence)\n",
    "\n",
    "# Perform POS tagging using Penn Treebank tagset\n",
    "pos_tags = pos_tag(tokens)\n",
    "\n",
    "# Map Penn Treebank tags to Universal POS tags\n",
    "universal_tags = [(word, map_tag('en-ptb', 'universal', tag)) for word, tag in pos_tags]"
   ]
  },
  {
   "cell_type": "code",
   "execution_count": 2,
   "id": "9bc8666d",
   "metadata": {},
   "outputs": [
    {
     "name": "stdout",
     "output_type": "stream",
     "text": [
      "Penn Treebank POS tags:\n",
      "[('They', 'PRP'), ('refuse', 'VBP'), ('to', 'TO'), ('permit', 'VB'), ('us', 'PRP'), ('to', 'TO'), ('obtain', 'VB'), ('the', 'DT'), ('refuse', 'NN'), ('permit', 'NN'), ('.', '.')]\n",
      "\n",
      "Universal POS tags:\n",
      "[('They', 'PRON'), ('refuse', 'VERB'), ('to', 'PRT'), ('permit', 'VERB'), ('us', 'PRON'), ('to', 'PRT'), ('obtain', 'VERB'), ('the', 'DET'), ('refuse', 'NOUN'), ('permit', 'NOUN'), ('.', '.')]\n"
     ]
    }
   ],
   "source": [
    "# Output the results\n",
    "print(\"Penn Treebank POS tags:\")\n",
    "print(pos_tags)\n",
    "print(\"\\nUniversal POS tags:\")\n",
    "print(universal_tags)"
   ]
  }
 ],
 "metadata": {
  "kernelspec": {
   "display_name": "Python 3",
   "language": "python",
   "name": "python3"
  },
  "language_info": {
   "codemirror_mode": {
    "name": "ipython",
    "version": 3
   },
   "file_extension": ".py",
   "mimetype": "text/x-python",
   "name": "python",
   "nbconvert_exporter": "python",
   "pygments_lexer": "ipython3",
   "version": "3.10.9"
  }
 },
 "nbformat": 4,
 "nbformat_minor": 5
}
