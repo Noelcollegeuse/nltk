{
 "cells": [
  {
   "cell_type": "code",
   "execution_count": 2,
   "id": "1ad17314",
   "metadata": {},
   "outputs": [
    {
     "name": "stdout",
     "output_type": "stream",
     "text": [
      "Accuracy based on last letter: 0.75\n"
     ]
    },
    {
     "name": "stderr",
     "output_type": "stream",
     "text": [
      "[nltk_data] Downloading package names to\n",
      "[nltk_data]     C:\\Users\\noele\\AppData\\Roaming\\nltk_data...\n",
      "[nltk_data]   Package names is already up-to-date!\n"
     ]
    }
   ],
   "source": [
    "import nltk\n",
    "from nltk.corpus import names\n",
    "import random\n",
    "\n",
    "# Prepare the data\n",
    "nltk.download('names')\n",
    "male_names = [(name, 'male') for name in names.words('male.txt')]\n",
    "female_names = [(name, 'female') for name in names.words('female.txt')]\n",
    "names_data = male_names + female_names\n",
    "random.shuffle(names_data)\n",
    "\n",
    "# Feature extractor\n",
    "def last_letter_features(name):\n",
    "    # The feature extractor should return a dictionary\n",
    "    return {'last_letter': name[-1].lower()}\n",
    "\n",
    "# Create featuresets with dictionaries\n",
    "featuresets = [(last_letter_features(name), gender) for (name, gender) in names_data]\n",
    "train_set, test_set = featuresets[:5000], featuresets[5000:]\n",
    "\n",
    "# Train classifier\n",
    "classifier = nltk.NaiveBayesClassifier.train(train_set)\n",
    "\n",
    "# Evaluate accuracy\n",
    "accuracy = nltk.classify.accuracy(classifier, test_set)\n",
    "print(f\"Accuracy based on last letter: {accuracy:.2f}\")"
   ]
  },
  {
   "cell_type": "code",
   "execution_count": 4,
   "id": "cd80ba77",
   "metadata": {},
   "outputs": [
    {
     "name": "stdout",
     "output_type": "stream",
     "text": [
      "Enhanced accuracy: 0.77\n"
     ]
    }
   ],
   "source": [
    "# Enhanced feature extractor\n",
    "def name_features(name):\n",
    "    return {\n",
    "        'last_letter': name[-1].lower(),\n",
    "        'first_letter': name[0].lower(),\n",
    "        'length': len(name)\n",
    "    }\n",
    "\n",
    "featuresets = [(name_features(name), gender) for (name, gender) in names_data]\n",
    "train_set, test_set = featuresets[:5000], featuresets[5000:]\n",
    "\n",
    "# Train classifier\n",
    "classifier = nltk.NaiveBayesClassifier.train(train_set)\n",
    "\n",
    "# Evaluate accuracy\n",
    "accuracy = nltk.classify.accuracy(classifier, test_set)\n",
    "print(f\"Enhanced accuracy: {accuracy:.2f}\")\n"
   ]
  }
 ],
 "metadata": {
  "kernelspec": {
   "display_name": "Python 3",
   "language": "python",
   "name": "python3"
  },
  "language_info": {
   "codemirror_mode": {
    "name": "ipython",
    "version": 3
   },
   "file_extension": ".py",
   "mimetype": "text/x-python",
   "name": "python",
   "nbconvert_exporter": "python",
   "pygments_lexer": "ipython3",
   "version": "3.10.9"
  }
 },
 "nbformat": 4,
 "nbformat_minor": 5
}
