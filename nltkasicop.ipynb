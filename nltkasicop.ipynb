{
 "cells": [
  {
   "cell_type": "code",
   "execution_count": 1,
   "id": "5cebc48a",
   "metadata": {},
   "outputs": [
    {
     "name": "stdout",
     "output_type": "stream",
     "text": [
      "\n",
      "Using Direct Assigment Operator\n",
      "List 1 : [1, 2, 3, 4]\n",
      "List 2: [1, 2, 3, 4]\n",
      "\n",
      "Using Copy() method\n",
      "List 3 : [1, 2, 3]\n",
      "List 4: [1, 2, 3, 4]\n"
     ]
    }
   ],
   "source": [
    "list1 = [1, 2, 3]\n",
    "list2 = list1\n",
    "list2.append(4)\n",
    "print(f\"\\nUsing Direct Assigment Operator\\nList 1 : {list1}\")\n",
    "print(f\"List 2: {list2}\")\n",
    "\n",
    "# Copy()\n",
    "list3 = [1, 2, 3]\n",
    "list4 = list3.copy()\n",
    "list4.append(4)\n",
    "print(f\"\\nUsing Copy() method\\nList 3 : {list3}\")\n",
    "print(f\"List 4: {list4}\")"
   ]
  }
 ],
 "metadata": {
  "kernelspec": {
   "display_name": "Python 3",
   "language": "python",
   "name": "python3"
  },
  "language_info": {
   "codemirror_mode": {
    "name": "ipython",
    "version": 3
   },
   "file_extension": ".py",
   "mimetype": "text/x-python",
   "name": "python",
   "nbconvert_exporter": "python",
   "pygments_lexer": "ipython3",
   "version": "3.10.9"
  }
 },
 "nbformat": 4,
 "nbformat_minor": 5
}
