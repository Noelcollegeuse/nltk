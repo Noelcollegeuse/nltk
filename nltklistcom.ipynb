{
 "cells": [
  {
   "cell_type": "code",
   "execution_count": 1,
   "id": "0d790f4b",
   "metadata": {},
   "outputs": [
    {
     "name": "stdout",
     "output_type": "stream",
     "text": [
      "Sentence: Red lorry, yellow lorry, red lorry, yellow lorry\n",
      "Lengths of each word in a sentence is:\n",
      "Red: 3\n",
      "lorry,: 6\n",
      "yellow: 6\n",
      "lorry,: 6\n",
      "red: 3\n",
      "lorry,: 6\n",
      "yellow: 6\n",
      "lorry: 5\n"
     ]
    }
   ],
   "source": [
    "sentence = \"Red lorry, yellow lorry, red lorry, yellow lorry\"\n",
    "word_lengths = [len(word) for word in sentence.split()]\n",
    "print(\"Sentence:\",sentence)\n",
    "print(\"Lengths of each word in a sentence is:\")\n",
    "for word in sentence.split():\n",
    "    print(f\"{word}: {len(word)}\")"
   ]
  }
 ],
 "metadata": {
  "kernelspec": {
   "display_name": "Python 3",
   "language": "python",
   "name": "python3"
  },
  "language_info": {
   "codemirror_mode": {
    "name": "ipython",
    "version": 3
   },
   "file_extension": ".py",
   "mimetype": "text/x-python",
   "name": "python",
   "nbconvert_exporter": "python",
   "pygments_lexer": "ipython3",
   "version": "3.10.9"
  }
 },
 "nbformat": 4,
 "nbformat_minor": 5
}
